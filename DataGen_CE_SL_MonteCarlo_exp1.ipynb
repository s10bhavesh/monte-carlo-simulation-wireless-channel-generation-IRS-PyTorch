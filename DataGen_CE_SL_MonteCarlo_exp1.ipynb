{
  "nbformat": 4,
  "nbformat_minor": 0,
  "metadata": {
    "colab": {
      "provenance": [],
      "authorship_tag": "ABX9TyPA7cMmNcalM0u37h0MmLmo",
      "include_colab_link": true
    },
    "kernelspec": {
      "name": "python3",
      "display_name": "Python 3"
    },
    "language_info": {
      "name": "python"
    }
  },
  "cells": [
    {
      "cell_type": "markdown",
      "metadata": {
        "id": "view-in-github",
        "colab_type": "text"
      },
      "source": [
        "<a href=\"https://colab.research.google.com/github/s10bhavesh/monte-carlo-simulation-wireless-channel-generation-IRS-PyTorch/blob/main/DataGen_CE_SL_MonteCarlo_exp1.ipynb\" target=\"_parent\"><img src=\"https://colab.research.google.com/assets/colab-badge.svg\" alt=\"Open In Colab\"/></a>"
      ]
    },
    {
      "cell_type": "code",
      "source": [
        "import torch\n",
        "from torch.utils.data import Dataset"
      ],
      "metadata": {
        "id": "rL8M1RAMiObA"
      },
      "execution_count": null,
      "outputs": []
    },
    {
      "cell_type": "code",
      "source": [
        "class ChannelEstimationDataset(Dataset):\n",
        "  \"\"\"\n",
        "  Custom Channel Estimation Dataset Generation.\n",
        "  Change the arguments to return H or LS_H\n",
        "  \"\"\"\n",
        "  pathloss_usr_irs = torch.tensor([(0.18 ** -2) / 31.6])\n",
        "  pathloss_irs_bs = torch.tensor([1 / 31.6])     # 1 / 31.6\n",
        "  pathloss_usr_bs = torch.tensor([1 / 33.0])\n",
        "  K_dB = 10.0\n",
        "  K = torch.tensor([10 ** (K_dB/10.0)])\n",
        "\n",
        "  def __init__(self,\n",
        "              num_samples,         # DataLength\n",
        "              num_ris_elements,    # N\n",
        "              num_antennas,        # M\n",
        "              SNRdB,\n",
        "              noise_var,\n",
        "              output_type='H'\n",
        "              ):\n",
        "    \"\"\"\n",
        "    Arguments:\n",
        "      num_samples (int): Number of data points to be generated (eg, 10000, 100000)\n",
        "      num_ris_elements (int): Number of RIS elements (typically 32, 64, 256, etc.)\n",
        "      num_antennas (int): Number of antennas at the base station (typically 4, 6, 8, 10, etc.)\n",
        "      SNRdB (float):\n",
        "      noise_var (float):\n",
        "      output_type (string): 'H' for channel estimate, 'LS' for its Least Square estimate.\n",
        "                            Default is set for 'H'\n",
        "    Returns:\n",
        "      Channel Estimates or Least-Square Estiamtes of the Channel Estimates\n",
        "    \"\"\"\n",
        "    self.num_samples = num_samples\n",
        "    self.num_ris_elements = num_ris_elements\n",
        "    self.num_antennas = num_antennas\n",
        "    self.num_reflection_patterns = num_ris_elements + 1     # C = N + 1,\n",
        "    self.SNRdB = torch.tensor([SNRdB])\n",
        "    self.noise_var = torch.tensor([noise_var])\n",
        "    self.transmission_power = torch.pow(torch.tensor([10.]), torch.tensor([SNRdB/10.])) * self.noise_var\n",
        "    self.output_type = output_type\n",
        "\n",
        "  def __len__(self):\n",
        "    return self.num_samples\n",
        "\n",
        "  def __getitem__(self, index):\n",
        "    # Compute S [?]\n",
        "    S = torch.sqrt(self.transmission_power) * self._fft_matrix(self.num_reflection_patterns)\n",
        "    S = S.to(torch.cfloat)\n",
        "    W = torch.sqrt(self.noise_var) * torch.rsqrt(torch.tensor([2.0])) * \\\n",
        "        torch.randn(self.num_antennas, self.num_reflection_patterns, dtype=torch.cfloat)\n",
        "    # Total channel\n",
        "    H = self._compute_channel()\n",
        "    # H = H.to(torch.cfloat)\n",
        "\n",
        "    # Received signal at BS: X = H*S + W\n",
        "    X = torch.matmul(H, S) + W.to(torch.cfloat)\n",
        "\n",
        "    # LS Detection\n",
        "    h_est_ls = self._ls_detection(S, X)\n",
        "\n",
        "    if self.output_type == 'LS':\n",
        "      return torch.stack([torch.real(h_est_ls), torch.imag(h_est_ls)], axis=0)\n",
        "    elif self.output_type == 'H':\n",
        "      return torch.stack([torch.real(H), torch.imag(H)], axis=0)\n",
        "\n",
        "  def _fft_matrix(self, num_reflection_patterns):\n",
        "    num_columns = torch.tensor([num_reflection_patterns])\n",
        "    mult_vector = torch.arange(num_reflection_patterns, dtype=torch.float32)\n",
        "\n",
        "    # FFT of reflection pattern\n",
        "    Wn = torch.exp(1j * torch.tensor([2.0]) * torch.pi / torch.tensor([num_reflection_patterns]))\n",
        "    s = torch.empty((num_reflection_patterns, num_columns), dtype=torch.cfloat)\n",
        "\n",
        "    # Generating the FFT matrix for the refelction pattern\n",
        "    for row in range(0, num_columns):\n",
        "      P_row = torch.pow(Wn, row * mult_vector)\n",
        "      P_row = P_row.unsqueeze(dim=0)\n",
        "      s[row] = P_row\n",
        "    return s\n",
        "\n",
        "  def _compute_channel(self):\n",
        "    f = torch.sqrt(self.pathloss_usr_irs) * torch.rsqrt(torch.tensor([2])) * torch.randn(self.num_ris_elements, 1, dtype=torch.cfloat)\n",
        "    G = torch.sqrt(self.pathloss_irs_bs) * (torch.sqrt(self.K / (self.K+1)) + torch.sqrt(1 / (self.K+1))) * \\\n",
        "        torch.rsqrt(torch.tensor([2])) * torch.randn(self.num_antennas, self.num_ris_elements, dtype=torch.cfloat)\n",
        "    B = torch.matmul(G, torch.diag(torch.squeeze(f, dim=-1)))\n",
        "    d = torch.sqrt(self.pathloss_usr_bs) * torch.rsqrt(torch.tensor([2])) * torch.randn(self.num_antennas, 1, dtype=torch.cfloat)\n",
        "    H = torch.cat((d, B), axis=1)\n",
        "    return H.to(torch.cfloat)\n",
        "\n",
        "  def _ls_detection(self, S, X):\n",
        "    w_ls = torch.t(S) / torch.matmul(S, torch.t(S))\n",
        "    h_est_ls = torch.matmul(X, w_ls.to(torch.cfloat))\n",
        "    return h_est_ls\n",
        "\n",
        "  def _compute_ls_estimate(self):\n",
        "    pass\n",
        "\n"
      ],
      "metadata": {
        "id": "d6U3X1cViPBt"
      },
      "execution_count": null,
      "outputs": []
    },
    {
      "cell_type": "code",
      "source": [
        "# Example usage\n",
        "NUM_SAMPLES = 10000\n",
        "NUM_RIS_ELEMENTS = 64\n",
        "NUM_ANTENNAS = 8\n",
        "SNR_DB = 5.0\n",
        "NOISE_VAR = 1.0\n",
        "OUTPUT_TYPE = 'H'\n",
        "\n",
        "dataset = ChannelEstimationDataset(num_samples=NUM_SAMPLES,\n",
        "                                   num_ris_elements=NUM_RIS_ELEMENTS,\n",
        "                                   num_antennas=NUM_ANTENNAS,\n",
        "                                   SNRdB=SNR_DB,\n",
        "                                   noise_var=NOISE_VAR,\n",
        "                                   output_type=OUTPUT_TYPE)"
      ],
      "metadata": {
        "id": "GG9_q2oEiPLP"
      },
      "execution_count": null,
      "outputs": []
    },
    {
      "cell_type": "code",
      "source": [
        "dataset = dataset\n",
        "BATCH_SIZE = 512\n",
        "\n",
        "dataloader = torch.utils.data.DataLoader(dataset, batch_size=BATCH_SIZE, shuffle=True)\n",
        "\n",
        "for batch in dataloader:\n",
        "  # Process each batch of normalized channel responses\n",
        "  print(batch.shape)\n"
      ],
      "metadata": {
        "colab": {
          "base_uri": "https://localhost:8080/"
        },
        "id": "gh8Rn3zUUdJ0",
        "outputId": "4260f258-2f00-4216-8322-ecd14f6cf8e1"
      },
      "execution_count": null,
      "outputs": [
        {
          "output_type": "stream",
          "name": "stdout",
          "text": [
            "torch.Size([512, 2, 8, 65])\n",
            "torch.Size([512, 2, 8, 65])\n",
            "torch.Size([512, 2, 8, 65])\n",
            "torch.Size([512, 2, 8, 65])\n",
            "torch.Size([512, 2, 8, 65])\n",
            "torch.Size([512, 2, 8, 65])\n",
            "torch.Size([512, 2, 8, 65])\n",
            "torch.Size([512, 2, 8, 65])\n",
            "torch.Size([512, 2, 8, 65])\n",
            "torch.Size([512, 2, 8, 65])\n",
            "torch.Size([512, 2, 8, 65])\n",
            "torch.Size([512, 2, 8, 65])\n",
            "torch.Size([512, 2, 8, 65])\n",
            "torch.Size([512, 2, 8, 65])\n",
            "torch.Size([512, 2, 8, 65])\n",
            "torch.Size([512, 2, 8, 65])\n",
            "torch.Size([512, 2, 8, 65])\n",
            "torch.Size([512, 2, 8, 65])\n",
            "torch.Size([512, 2, 8, 65])\n",
            "torch.Size([272, 2, 8, 65])\n"
          ]
        }
      ]
    },
    {
      "cell_type": "code",
      "source": [
        "print(len(dataset))"
      ],
      "metadata": {
        "colab": {
          "base_uri": "https://localhost:8080/"
        },
        "id": "mb4M_Ws7NGfw",
        "outputId": "ac180867-957c-4fc2-9ae9-234faac13b72"
      },
      "execution_count": null,
      "outputs": [
        {
          "output_type": "stream",
          "name": "stdout",
          "text": [
            "10000\n"
          ]
        }
      ]
    },
    {
      "cell_type": "code",
      "source": [
        "print(len(dataset))\n",
        "print(dataset[0][:][0])"
      ],
      "metadata": {
        "colab": {
          "base_uri": "https://localhost:8080/"
        },
        "id": "wwgdrJw19H_7",
        "outputId": "7c6551b1-61fe-4dd6-8336-f108fee64a4f"
      },
      "execution_count": null,
      "outputs": [
        {
          "output_type": "stream",
          "name": "stdout",
          "text": [
            "10000\n",
            "tensor([[ 2.1043e-02, -1.3161e-02, -2.2504e-02, -5.0742e-02,  2.2448e-02,\n",
            "          1.8267e-02,  5.8031e-02, -4.7280e-02, -3.4597e-02,  5.7941e-02,\n",
            "         -4.5244e-02,  4.7784e-02,  2.7454e-02, -1.3235e-02, -1.2333e-02,\n",
            "          1.1842e-01,  9.3338e-02,  3.3490e-02,  1.3414e-01,  1.7935e-02,\n",
            "         -4.1358e-05, -2.4341e-02, -1.3955e-01, -1.9769e-02,  1.3597e-02,\n",
            "         -7.2258e-02,  1.7419e-01, -1.8502e-01,  1.1485e-01,  2.3398e-02,\n",
            "         -4.4295e-02, -8.7002e-03,  1.1780e-01,  1.1332e-01, -2.1827e-02,\n",
            "         -3.8857e-02,  3.7754e-02,  3.2458e-03, -3.0179e-02,  1.1098e-01,\n",
            "          1.5506e-01, -6.9736e-02,  5.9903e-02,  3.1163e-02,  1.3771e-02,\n",
            "         -2.8598e-03, -1.5413e-02, -4.0600e-03, -5.0611e-02,  2.1795e-02,\n",
            "         -2.8748e-02, -9.6164e-02,  5.5520e-02, -1.1086e-01, -1.1488e-01,\n",
            "         -5.3231e-02, -8.9123e-04,  5.1854e-02, -8.5202e-03,  1.4758e-02,\n",
            "          5.3571e-02, -8.8515e-03, -2.1759e-01, -8.5039e-02,  1.7325e-01],\n",
            "        [ 5.6421e-02, -4.6710e-02, -5.1337e-02,  6.1622e-02, -3.4845e-03,\n",
            "         -5.0031e-03, -5.0262e-02,  5.5269e-02,  6.3487e-02, -1.3829e-01,\n",
            "          1.1123e-02,  1.4440e-01,  1.5956e-02,  1.3376e-02, -1.3768e-02,\n",
            "          6.3867e-02, -6.1490e-03,  8.3509e-02,  1.4096e-02,  1.3004e-03,\n",
            "          1.5172e-02, -1.1431e-02,  4.6752e-02,  5.3999e-02,  1.1115e-01,\n",
            "          5.5833e-02, -1.9462e-01, -9.5485e-03,  1.4861e-02,  7.7242e-03,\n",
            "         -4.1680e-02, -1.1931e-02,  2.5968e-01,  9.3383e-02,  1.9766e-02,\n",
            "          3.6423e-02, -1.0001e-02, -3.4474e-02, -1.0268e-01,  1.4150e-01,\n",
            "          2.6550e-02,  3.0225e-02,  1.4777e-02,  6.7440e-02,  9.8644e-02,\n",
            "         -3.5786e-02,  6.5154e-02, -3.4710e-03,  5.0779e-02, -6.6751e-02,\n",
            "         -4.4726e-02, -1.3805e-01,  2.0610e-01, -3.7902e-02,  1.3155e-01,\n",
            "         -6.3059e-02, -6.2265e-02,  1.7573e-02, -7.7570e-02, -9.1704e-03,\n",
            "          7.0510e-02, -1.1075e-01,  2.0978e-01,  9.2107e-04,  1.2044e-01],\n",
            "        [-1.3982e-03, -1.3342e-01,  9.9445e-02,  1.5905e-01, -2.8416e-03,\n",
            "          1.6447e-02,  1.2839e-01,  1.9164e-02, -1.4633e-02,  6.0731e-02,\n",
            "         -5.3283e-02,  5.1360e-02,  3.1799e-02,  5.7476e-02, -2.9165e-02,\n",
            "         -1.2062e-01, -9.8655e-02,  5.0890e-02, -1.0442e-01,  2.0867e-03,\n",
            "         -1.2974e-02,  9.5109e-03,  9.7222e-02, -7.5574e-02,  5.4440e-02,\n",
            "          2.8656e-03,  1.3701e-01, -6.9336e-02,  7.6027e-02,  3.8514e-02,\n",
            "         -7.6429e-03, -5.1635e-02, -1.3002e-01,  7.5859e-02,  1.5657e-02,\n",
            "         -5.3034e-02,  6.0366e-03, -1.1425e-02, -2.7563e-01,  4.6012e-03,\n",
            "         -4.5874e-02, -1.5596e-02,  1.6515e-02,  4.8698e-02, -7.9314e-02,\n",
            "         -1.3648e-02,  6.8035e-02,  1.6065e-02, -2.6531e-03, -9.0088e-02,\n",
            "          5.7691e-02,  7.5379e-03,  2.9011e-01, -1.5520e-01, -2.0696e-01,\n",
            "          1.5187e-01, -7.9198e-03, -8.5574e-02,  8.0079e-02, -1.6880e-02,\n",
            "          7.0005e-03,  3.4554e-02, -4.0264e-01,  7.2697e-02,  1.7673e-01],\n",
            "        [-1.4610e-01, -1.1027e-01,  3.0474e-02, -8.5954e-02, -4.8593e-02,\n",
            "         -2.2544e-02, -6.7819e-03, -2.7435e-02, -4.9152e-02,  4.6396e-02,\n",
            "         -8.4537e-03,  8.6154e-02, -8.1705e-03, -4.5132e-02,  1.3976e-02,\n",
            "          1.0904e-01,  6.5478e-02, -4.2783e-02,  3.7636e-02, -7.2838e-03,\n",
            "         -5.9037e-03,  8.0408e-02,  2.4041e-03, -9.6363e-02, -6.1125e-02,\n",
            "         -5.1109e-02, -1.3378e-01,  3.2060e-01, -5.6362e-02,  6.1386e-02,\n",
            "          7.6192e-02, -4.1501e-02,  5.2595e-02,  6.9559e-02, -8.4393e-03,\n",
            "          1.1316e-03, -2.8446e-02,  6.5775e-02,  1.7669e-01,  7.6342e-02,\n",
            "         -4.8051e-03,  1.4578e-02, -4.6324e-02, -2.8660e-02,  1.8221e-01,\n",
            "         -4.2194e-02, -6.2425e-02, -2.6923e-02, -6.2795e-03, -6.3321e-02,\n",
            "          3.9340e-02,  7.5083e-02, -1.1674e-01,  9.1213e-02, -6.2076e-02,\n",
            "         -6.9846e-03,  1.1621e-01,  1.4018e-02, -1.2571e-01, -1.4089e-02,\n",
            "         -4.4221e-02,  4.0752e-02,  3.4096e-02,  3.2092e-02, -1.8445e-03],\n",
            "        [-1.2266e-01,  2.5357e-01, -1.2421e-01, -2.7054e-02,  2.4783e-02,\n",
            "          5.6783e-02,  8.5424e-02, -1.4967e-03, -4.6722e-02,  2.4123e-01,\n",
            "         -3.7774e-02,  1.2389e-01,  1.0110e-02,  1.5529e-02, -2.2330e-02,\n",
            "         -4.4037e-02, -1.3044e-01, -1.5908e-03, -6.8678e-03, -7.2313e-02,\n",
            "         -3.4114e-03, -2.8188e-03, -1.0836e-01, -6.6593e-02, -1.3651e-01,\n",
            "          3.4946e-02,  1.1213e-01, -2.7083e-02, -4.1856e-02,  5.7571e-03,\n",
            "          9.4664e-02,  4.0850e-03,  7.7714e-02, -1.6186e-02,  5.5327e-02,\n",
            "         -1.4886e-01, -4.0397e-02,  9.4763e-03,  1.3340e-01,  3.0178e-02,\n",
            "         -3.6026e-02,  1.0421e-01,  1.7935e-02, -3.5748e-02,  2.0919e-01,\n",
            "          1.0652e-02,  1.6761e-02, -1.1691e-03, -4.8581e-02,  2.5749e-02,\n",
            "         -5.2865e-02,  1.2551e-01,  3.7868e-02,  4.6975e-02,  6.1125e-02,\n",
            "         -3.3204e-02, -4.1819e-03, -5.1351e-02, -1.5977e-02,  1.3978e-02,\n",
            "          4.6477e-02,  2.9668e-02, -2.5047e-02, -2.2378e-02,  8.6370e-02],\n",
            "        [-3.3664e-02,  1.3127e-01, -3.4283e-02, -8.5123e-02, -6.6556e-02,\n",
            "         -5.0653e-03, -5.1411e-02, -1.9520e-02,  3.6915e-02, -1.4441e-01,\n",
            "          4.7139e-02, -9.8579e-02, -4.0590e-02,  2.7495e-02, -1.4491e-02,\n",
            "          2.1975e-02, -7.1991e-02,  1.2045e-01, -2.9012e-02,  5.5939e-03,\n",
            "          8.0894e-03,  7.3867e-02,  2.0299e-02,  1.0517e-01, -1.9275e-02,\n",
            "          9.6659e-03,  6.6382e-04, -3.0901e-01,  1.3196e-02,  1.8068e-02,\n",
            "         -1.4589e-02,  5.0341e-02, -4.9163e-02,  3.0578e-02,  1.6578e-03,\n",
            "          3.9971e-02,  3.8287e-02,  4.0912e-02, -8.4855e-02, -2.6220e-02,\n",
            "         -9.8326e-02, -2.9994e-02, -5.8918e-02, -3.7076e-02, -8.9406e-02,\n",
            "          2.3002e-02, -6.8372e-03, -1.5971e-03, -1.0587e-03, -8.6763e-02,\n",
            "         -1.2775e-02, -1.2499e-02, -2.2075e-02,  3.2149e-02,  2.2680e-02,\n",
            "         -1.4116e-01, -1.0387e-01, -8.3965e-02, -1.3435e-01, -1.4217e-02,\n",
            "         -2.6508e-03,  1.2433e-02,  1.0450e-01,  6.1867e-02, -1.2743e-01],\n",
            "        [-5.8102e-02, -9.1767e-02,  4.8383e-03,  1.1182e-01, -3.4713e-02,\n",
            "          7.7643e-03, -3.6400e-02,  1.8197e-02,  6.8997e-02, -1.4028e-01,\n",
            "          3.0031e-02,  1.0378e-02, -2.8819e-02, -4.6590e-02, -1.3246e-03,\n",
            "         -6.8031e-02,  4.2044e-02, -9.2351e-02,  2.6953e-03,  1.8593e-02,\n",
            "          3.4749e-03, -2.4160e-02,  6.5229e-02,  9.0313e-02,  1.2018e-01,\n",
            "          2.8408e-02, -1.3502e-01, -1.4123e-01,  1.0094e-01, -1.2494e-02,\n",
            "          5.7591e-02,  1.3627e-02,  1.4899e-02,  1.2363e-01,  1.0989e-02,\n",
            "         -1.7089e-01, -2.6289e-02, -1.6396e-02,  1.2459e-01, -3.1204e-02,\n",
            "          2.6410e-02,  1.2404e-01, -2.8873e-02, -2.3295e-02, -1.6800e-02,\n",
            "         -2.8724e-03, -4.7049e-02,  2.1525e-02,  1.7237e-03,  5.9658e-02,\n",
            "          6.5057e-03,  6.2580e-02, -7.1626e-02, -4.2827e-02,  7.3085e-02,\n",
            "          1.1565e-01, -1.1481e-02,  7.8043e-02,  2.7004e-02, -2.0498e-02,\n",
            "          2.3988e-02, -1.1844e-02,  7.1838e-02,  3.5953e-02, -1.6464e-01],\n",
            "        [ 1.4885e-01,  9.2321e-02, -2.5877e-02, -1.0474e-01,  1.4006e-03,\n",
            "          1.3952e-03,  6.2505e-02,  4.6351e-02,  3.7730e-02, -1.0521e-01,\n",
            "          1.7048e-02, -1.2563e-01,  6.0071e-02, -1.2610e-01, -2.4978e-03,\n",
            "         -8.2267e-02, -4.9458e-02,  1.1709e-01,  3.2150e-02, -2.5805e-02,\n",
            "         -8.0549e-03,  1.0034e-02, -1.2902e-02, -1.4624e-02, -4.9436e-02,\n",
            "         -4.2686e-02, -2.7861e-02, -2.0811e-01, -2.6646e-02,  1.0274e-02,\n",
            "         -3.5981e-02, -4.7612e-03, -5.0121e-03,  9.1847e-02, -2.1844e-02,\n",
            "          2.3081e-01, -2.9826e-02, -3.1321e-02, -1.5702e-02, -6.1335e-02,\n",
            "          4.1880e-04, -4.4211e-02,  3.7256e-02,  2.0821e-02, -2.4261e-02,\n",
            "         -1.7210e-03, -1.3641e-02, -2.8193e-04, -5.5640e-02, -8.6443e-04,\n",
            "         -4.3801e-02, -4.9967e-02, -4.5541e-02, -1.0541e-01, -2.2444e-02,\n",
            "         -4.8346e-02,  4.8813e-02, -6.7522e-02, -3.7858e-02,  1.7801e-02,\n",
            "          6.1321e-03,  1.3942e-02, -1.2711e-01, -6.0600e-02, -2.2759e-02]])\n"
          ]
        }
      ]
    },
    {
      "cell_type": "code",
      "source": [
        "\n",
        "num_data_pts = 100\n",
        "t = torch.empty((num_data_pts, 30, 50), dtype=torch.cfloat)\n",
        "# t\n",
        "for num in range(num_data_pts):\n",
        "  t[num] = torch.randn((30, 50), dtype=torch.cfloat)\n",
        "\n",
        "t.shape\n",
        "torch.save(t, 'test_tensor.pt')\n"
      ],
      "metadata": {
        "id": "yl5HGERELR9W"
      },
      "execution_count": null,
      "outputs": []
    },
    {
      "cell_type": "code",
      "source": [
        "import numpy as np\n",
        "\n",
        "num_reflection_patterns = 33\n",
        "num_columns = 33\n",
        "# mult_vector = np.array(list(range(0, num_reflection_patterns)))\n",
        "mult_vector = torch.arange(num_reflection_patterns, dtype=torch.float32)\n",
        "\n",
        "# FFT of reflection pattern\n",
        "# Wn = np.exp( 1j * 2 * np.pi / num_reflection_patterns)\n",
        "Wn = torch.exp(1j * 2.0 * torch.pi / torch.tensor([num_reflection_patterns]))\n",
        "s = torch.empty((num_reflection_patterns, num_columns), dtype=torch.cfloat)\n",
        "\n",
        "# Generating the FFT matrix for the refelction pattern\n",
        "for itr in range(0, num_columns):\n",
        "  # element-wise power\n",
        "  # P_row = np.power(Wn, itr * mult_vector)\n",
        "  P_row = torch.pow(Wn, itr * mult_vector)\n",
        "  P_row = P_row.unsqueeze(dim=0)\n",
        "  # print(P_row.shape)\n",
        "  # s.append(P_row)\n",
        "  # torch.cat((s, P_row), dim=0)\n",
        "  s[itr] = P_row\n",
        "\n",
        "# s = np.asarray(s)\n",
        "s.shape"
      ],
      "metadata": {
        "id": "C7FnxVAZiPmC",
        "colab": {
          "base_uri": "https://localhost:8080/"
        },
        "outputId": "1ec301e2-0040-4268-8e32-9b091eec544c"
      },
      "execution_count": null,
      "outputs": [
        {
          "output_type": "execute_result",
          "data": {
            "text/plain": [
              "torch.Size([33, 33])"
            ]
          },
          "metadata": {},
          "execution_count": 67
        }
      ]
    },
    {
      "cell_type": "code",
      "source": [
        "s[2]"
      ],
      "metadata": {
        "colab": {
          "base_uri": "https://localhost:8080/"
        },
        "id": "zkLHg1uPbHSy",
        "outputId": "253a3142-9a0f-40b4-b212-0549feabf192"
      },
      "execution_count": null,
      "outputs": [
        {
          "output_type": "execute_result",
          "data": {
            "text/plain": [
              "tensor([ 1.0000+0.0000j,  0.9284+0.3717j,  0.7237+0.6901j,  0.4154+0.9096j,\n",
              "         0.0476+0.9989j, -0.3271+0.9450j, -0.6549+0.7557j, -0.8888+0.4582j,\n",
              "        -0.9955+0.0951j, -0.9595-0.2817j, -0.7861-0.6182j, -0.5000-0.8660j,\n",
              "        -0.1423-0.9898j,  0.2358-0.9718j,  0.5801-0.8146j,  0.8413-0.5406j,\n",
              "         0.9819-0.1893j,  0.9819+0.1893j,  0.8413+0.5406j,  0.5801+0.8146j,\n",
              "         0.2358+0.9718j, -0.1423+0.9898j, -0.5000+0.8660j, -0.7861+0.6182j,\n",
              "        -0.9595+0.2817j, -0.9955-0.0951j, -0.8888-0.4582j, -0.6549-0.7558j,\n",
              "        -0.3271-0.9450j,  0.0476-0.9989j,  0.4154-0.9096j,  0.7237-0.6901j,\n",
              "         0.9284-0.3717j])"
            ]
          },
          "metadata": {},
          "execution_count": 71
        }
      ]
    },
    {
      "cell_type": "code",
      "source": [
        "x = torch.rand(3,3)\n",
        "x, len(x)"
      ],
      "metadata": {
        "colab": {
          "base_uri": "https://localhost:8080/"
        },
        "id": "G1KY29vraLly",
        "outputId": "c5ac9eae-3a41-41b2-e764-6c55bb229aab"
      },
      "execution_count": null,
      "outputs": [
        {
          "output_type": "execute_result",
          "data": {
            "text/plain": [
              "(tensor([[0.8368, 0.8368, 0.5101],\n",
              "         [0.3732, 0.4125, 0.7695],\n",
              "         [0.0943, 0.4586, 0.4892]]),\n",
              " 3)"
            ]
          },
          "metadata": {},
          "execution_count": 65
        }
      ]
    },
    {
      "cell_type": "code",
      "source": [
        "for i in range(len(x)):\n",
        "  x[i] = torch.tensor([0,0,0])\n",
        "x"
      ],
      "metadata": {
        "colab": {
          "base_uri": "https://localhost:8080/"
        },
        "id": "_GrCjIIgaQWY",
        "outputId": "f3532657-4d92-4af9-a6c0-b2541c792fc4"
      },
      "execution_count": null,
      "outputs": [
        {
          "output_type": "execute_result",
          "data": {
            "text/plain": [
              "tensor([[0., 0., 0.],\n",
              "        [0., 0., 0.],\n",
              "        [0., 0., 0.]])"
            ]
          },
          "metadata": {},
          "execution_count": 66
        }
      ]
    },
    {
      "cell_type": "code",
      "source": [
        "s[0][0].shape"
      ],
      "metadata": {
        "colab": {
          "base_uri": "https://localhost:8080/"
        },
        "id": "tdu6ajS_QIeS",
        "outputId": "ba3e47d6-ac19-4e37-b709-83abad69c9d3"
      },
      "execution_count": null,
      "outputs": [
        {
          "output_type": "execute_result",
          "data": {
            "text/plain": [
              "torch.Size([])"
            ]
          },
          "metadata": {},
          "execution_count": 61
        }
      ]
    },
    {
      "cell_type": "code",
      "source": [
        "c = torch.rand(33)\n",
        "# c = c.squeeze(dim=-1)\n",
        "c = c.unsqueeze(dim=0)\n",
        "c.shape"
      ],
      "metadata": {
        "colab": {
          "base_uri": "https://localhost:8080/"
        },
        "id": "ThaWfUc1HQmp",
        "outputId": "ef688dcd-b2c5-44e7-f67b-a0827b9adeff"
      },
      "execution_count": null,
      "outputs": [
        {
          "output_type": "execute_result",
          "data": {
            "text/plain": [
              "torch.Size([1, 33])"
            ]
          },
          "metadata": {},
          "execution_count": 53
        }
      ]
    },
    {
      "cell_type": "code",
      "source": [
        "s.shape"
      ],
      "metadata": {
        "colab": {
          "base_uri": "https://localhost:8080/"
        },
        "id": "YUNTFf8pCPzF",
        "outputId": "71ffd79a-b472-42bb-d99d-f4e5605e8910"
      },
      "execution_count": null,
      "outputs": [
        {
          "output_type": "execute_result",
          "data": {
            "text/plain": [
              "(33, 33)"
            ]
          },
          "metadata": {},
          "execution_count": 10
        }
      ]
    },
    {
      "cell_type": "code",
      "source": [
        "import torch\n",
        "a = torch.empty((33,33), dtype=torch.cfloat)\n",
        "b = torch.arange(10, dtype=torch.float32)\n",
        "b * 5"
      ],
      "metadata": {
        "colab": {
          "base_uri": "https://localhost:8080/"
        },
        "id": "xUU9PfacBrWb",
        "outputId": "c44f5298-fef8-4475-8f44-071f72ff4587"
      },
      "execution_count": null,
      "outputs": [
        {
          "output_type": "execute_result",
          "data": {
            "text/plain": [
              "tensor([ 0.,  5., 10., 15., 20., 25., 30., 35., 40., 45.])"
            ]
          },
          "metadata": {},
          "execution_count": 18
        }
      ]
    },
    {
      "cell_type": "code",
      "source": [
        "a.shape"
      ],
      "metadata": {
        "colab": {
          "base_uri": "https://localhost:8080/"
        },
        "id": "LIEjBV4-C6vk",
        "outputId": "12d18eaf-b085-4df7-88fd-d2a96e025b43"
      },
      "execution_count": null,
      "outputs": [
        {
          "output_type": "execute_result",
          "data": {
            "text/plain": [
              "torch.Size([33, 33])"
            ]
          },
          "metadata": {},
          "execution_count": 13
        }
      ]
    },
    {
      "cell_type": "code",
      "source": [
        "pathloss_usr_irs = torch.tensor([(0.18 ** -2) / 31.6])\n",
        "pathloss_irs_bs = torch.tensor([1 / 31.6])     # 1 / 31.6\n",
        "pathloss_usr_bs = torch.tensor([1 / 33.0])\n",
        "K_dB = 10.0\n",
        "K = torch.tensor([10 ** (K_dB/10.0)])\n"
      ],
      "metadata": {
        "id": "-9YiJdD56p7E"
      },
      "execution_count": null,
      "outputs": []
    },
    {
      "cell_type": "code",
      "source": [],
      "metadata": {
        "id": "JynbbNy8B594"
      },
      "execution_count": null,
      "outputs": []
    },
    {
      "cell_type": "code",
      "source": [
        "K.dtype\n"
      ],
      "metadata": {
        "colab": {
          "base_uri": "https://localhost:8080/"
        },
        "id": "WcACMQi1hrwO",
        "outputId": "411eabf3-a9d3-4eb0-f666-d98bbed2102a"
      },
      "execution_count": null,
      "outputs": [
        {
          "output_type": "execute_result",
          "data": {
            "text/plain": [
              "torch.float32"
            ]
          },
          "metadata": {},
          "execution_count": 18
        }
      ]
    },
    {
      "cell_type": "code",
      "source": [
        "x = torch.randn(10,1, dtype=torch.complex64)\n",
        "x.shape, x.squeeze(1).shape"
      ],
      "metadata": {
        "colab": {
          "base_uri": "https://localhost:8080/"
        },
        "id": "7g9pYvnvhVSz",
        "outputId": "4c203441-8e23-4848-859f-eeb5100a7667"
      },
      "execution_count": null,
      "outputs": [
        {
          "output_type": "execute_result",
          "data": {
            "text/plain": [
              "(torch.Size([10, 1]), torch.Size([10]))"
            ]
          },
          "metadata": {},
          "execution_count": 62
        }
      ]
    },
    {
      "cell_type": "code",
      "source": [
        "torch.diag(x.squeeze(-1))"
      ],
      "metadata": {
        "colab": {
          "base_uri": "https://localhost:8080/"
        },
        "id": "Q1vbhPajoWqJ",
        "outputId": "a8974290-360a-4a7a-eefe-0d2b97ec3494"
      },
      "execution_count": null,
      "outputs": [
        {
          "output_type": "execute_result",
          "data": {
            "text/plain": [
              "tensor([[-0.9613-1.1728j,  0.0000+0.0000j,  0.0000+0.0000j,  0.0000+0.0000j,\n",
              "          0.0000+0.0000j,  0.0000+0.0000j,  0.0000+0.0000j,  0.0000+0.0000j,\n",
              "          0.0000+0.0000j,  0.0000+0.0000j],\n",
              "        [ 0.0000+0.0000j,  0.4961-0.7250j,  0.0000+0.0000j,  0.0000+0.0000j,\n",
              "          0.0000+0.0000j,  0.0000+0.0000j,  0.0000+0.0000j,  0.0000+0.0000j,\n",
              "          0.0000+0.0000j,  0.0000+0.0000j],\n",
              "        [ 0.0000+0.0000j,  0.0000+0.0000j,  0.0857+1.1686j,  0.0000+0.0000j,\n",
              "          0.0000+0.0000j,  0.0000+0.0000j,  0.0000+0.0000j,  0.0000+0.0000j,\n",
              "          0.0000+0.0000j,  0.0000+0.0000j],\n",
              "        [ 0.0000+0.0000j,  0.0000+0.0000j,  0.0000+0.0000j,  0.7521-0.3880j,\n",
              "          0.0000+0.0000j,  0.0000+0.0000j,  0.0000+0.0000j,  0.0000+0.0000j,\n",
              "          0.0000+0.0000j,  0.0000+0.0000j],\n",
              "        [ 0.0000+0.0000j,  0.0000+0.0000j,  0.0000+0.0000j,  0.0000+0.0000j,\n",
              "          0.9735-0.3334j,  0.0000+0.0000j,  0.0000+0.0000j,  0.0000+0.0000j,\n",
              "          0.0000+0.0000j,  0.0000+0.0000j],\n",
              "        [ 0.0000+0.0000j,  0.0000+0.0000j,  0.0000+0.0000j,  0.0000+0.0000j,\n",
              "          0.0000+0.0000j, -0.3752+0.9305j,  0.0000+0.0000j,  0.0000+0.0000j,\n",
              "          0.0000+0.0000j,  0.0000+0.0000j],\n",
              "        [ 0.0000+0.0000j,  0.0000+0.0000j,  0.0000+0.0000j,  0.0000+0.0000j,\n",
              "          0.0000+0.0000j,  0.0000+0.0000j,  0.7385-1.3854j,  0.0000+0.0000j,\n",
              "          0.0000+0.0000j,  0.0000+0.0000j],\n",
              "        [ 0.0000+0.0000j,  0.0000+0.0000j,  0.0000+0.0000j,  0.0000+0.0000j,\n",
              "          0.0000+0.0000j,  0.0000+0.0000j,  0.0000+0.0000j, -0.3120-0.2189j,\n",
              "          0.0000+0.0000j,  0.0000+0.0000j],\n",
              "        [ 0.0000+0.0000j,  0.0000+0.0000j,  0.0000+0.0000j,  0.0000+0.0000j,\n",
              "          0.0000+0.0000j,  0.0000+0.0000j,  0.0000+0.0000j,  0.0000+0.0000j,\n",
              "         -0.2974+0.4428j,  0.0000+0.0000j],\n",
              "        [ 0.0000+0.0000j,  0.0000+0.0000j,  0.0000+0.0000j,  0.0000+0.0000j,\n",
              "          0.0000+0.0000j,  0.0000+0.0000j,  0.0000+0.0000j,  0.0000+0.0000j,\n",
              "          0.0000+0.0000j, -0.1304-0.1984j]])"
            ]
          },
          "metadata": {},
          "execution_count": 61
        }
      ]
    },
    {
      "cell_type": "code",
      "source": [
        "f = torch.sqrt(pathloss_usr_irs) * torch.rsqrt(torch.tensor([2])) * torch.randn(32, 1, dtype=torch.complex64)\n",
        "G = torch.sqrt(pathloss_irs_bs) * (torch.sqrt(K / (K+1)) + torch.sqrt(1 / (K+1))) * \\\n",
        "    torch.rsqrt(torch.tensor([2])) * torch.randn(8, 32, dtype=torch.complex64)\n",
        "B = torch.matmul(G, torch.diag(torch.squeeze(f, dim=-1)))\n",
        "d = torch.sqrt(pathloss_usr_bs) * torch.rsqrt(torch.tensor([2])) * torch.randn(8, 1, dtype=torch.complex64)\n",
        "H = torch.cat((d, B), axis=1)"
      ],
      "metadata": {
        "id": "BhgS0swP6qA5"
      },
      "execution_count": null,
      "outputs": []
    },
    {
      "cell_type": "code",
      "source": [
        "H.shape"
      ],
      "metadata": {
        "colab": {
          "base_uri": "https://localhost:8080/"
        },
        "id": "rX7A8BlLspiU",
        "outputId": "7268e552-80c0-42fe-e1cd-387b93d76b33"
      },
      "execution_count": null,
      "outputs": [
        {
          "output_type": "execute_result",
          "data": {
            "text/plain": [
              "torch.Size([8, 33])"
            ]
          },
          "metadata": {},
          "execution_count": 84
        }
      ]
    },
    {
      "cell_type": "code",
      "source": [
        "d = torch.sqrt(pathloss_usr_bs) * torch.rsqrt(torch.tensor([2])) * torch.randn(8, 1, dtype=torch.complex64)\n",
        "d.shape"
      ],
      "metadata": {
        "colab": {
          "base_uri": "https://localhost:8080/"
        },
        "id": "MF1qSkbZsF5W",
        "outputId": "4056af83-188a-4b30-bc73-d4db6f6bdc5f"
      },
      "execution_count": null,
      "outputs": [
        {
          "output_type": "execute_result",
          "data": {
            "text/plain": [
              "torch.Size([8, 1])"
            ]
          },
          "metadata": {},
          "execution_count": 82
        }
      ]
    },
    {
      "cell_type": "code",
      "source": [
        "a = torch.randn(3,4)\n",
        "b = torch.randn(3,1)\n",
        "a,b\n"
      ],
      "metadata": {
        "colab": {
          "base_uri": "https://localhost:8080/"
        },
        "id": "kj8VvvxOpiD9",
        "outputId": "c9cbfc93-9faa-4593-80db-e8fe298725c5"
      },
      "execution_count": null,
      "outputs": [
        {
          "output_type": "execute_result",
          "data": {
            "text/plain": [
              "(tensor([[-0.0687, -0.4956, -1.1597, -0.0276],\n",
              "         [-0.0793,  1.1542, -1.4126,  0.4731],\n",
              "         [-0.7441,  0.4512, -1.8254,  1.2703]]),\n",
              " tensor([[ 0.5326],\n",
              "         [-0.3856],\n",
              "         [-0.0242]]))"
            ]
          },
          "metadata": {},
          "execution_count": 67
        }
      ]
    },
    {
      "cell_type": "code",
      "source": [
        "c = torch.cat((a,b), axis=1)\n",
        "c, c.shape"
      ],
      "metadata": {
        "colab": {
          "base_uri": "https://localhost:8080/"
        },
        "id": "zhv69RGwpiMi",
        "outputId": "32265532-3de3-43e0-b9cd-54a74a6dc296"
      },
      "execution_count": null,
      "outputs": [
        {
          "output_type": "execute_result",
          "data": {
            "text/plain": [
              "(tensor([[-0.0687, -0.4956, -1.1597, -0.0276,  0.5326],\n",
              "         [-0.0793,  1.1542, -1.4126,  0.4731, -0.3856],\n",
              "         [-0.7441,  0.4512, -1.8254,  1.2703, -0.0242]]),\n",
              " torch.Size([3, 5]))"
            ]
          },
          "metadata": {},
          "execution_count": 72
        }
      ]
    },
    {
      "cell_type": "code",
      "source": [
        "d = torch.randn(2,3)\n",
        "e = torch.randn(3,3)\n",
        "d.shape, e.shape\n",
        "torch.cat((d,e), dim=0)"
      ],
      "metadata": {
        "colab": {
          "base_uri": "https://localhost:8080/"
        },
        "id": "ilO1d9edpiY0",
        "outputId": "20286c95-6946-4f75-b105-b6a49c5052d2"
      },
      "execution_count": null,
      "outputs": [
        {
          "output_type": "execute_result",
          "data": {
            "text/plain": [
              "tensor([[ 0.1400,  1.3665, -0.9510],\n",
              "        [-0.5457, -1.0288, -1.0474],\n",
              "        [-0.4574,  0.5549, -0.1880],\n",
              "        [ 0.1661, -0.4140, -0.2604],\n",
              "        [-0.6592, -1.0276,  1.5608]])"
            ]
          },
          "metadata": {},
          "execution_count": 80
        }
      ]
    },
    {
      "cell_type": "code",
      "source": [],
      "metadata": {
        "id": "w3Ao4wWJpik6"
      },
      "execution_count": null,
      "outputs": []
    },
    {
      "cell_type": "code",
      "source": [],
      "metadata": {
        "id": "1xMlDgtL6qOn"
      },
      "execution_count": null,
      "outputs": []
    }
  ]
}